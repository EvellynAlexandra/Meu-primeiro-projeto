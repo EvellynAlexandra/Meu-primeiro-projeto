{
  "nbformat": 4,
  "nbformat_minor": 0,
  "metadata": {
    "colab": {
      "provenance": [],
      "authorship_tag": "ABX9TyMpvaH6A0PneY2Q1gib5o8M",
      "include_colab_link": true
    },
    "kernelspec": {
      "name": "python3",
      "display_name": "Python 3"
    },
    "language_info": {
      "name": "python"
    }
  },
  "cells": [
    {
      "cell_type": "markdown",
      "metadata": {
        "id": "view-in-github",
        "colab_type": "text"
      },
      "source": [
        "<a href=\"https://colab.research.google.com/github/EvellynAlexandra/meu-primeiro-projeto/blob/master/faculdade1.ipynb\" target=\"_parent\"><img src=\"https://colab.research.google.com/assets/colab-badge.svg\" alt=\"Open In Colab\"/></a>"
      ]
    },
    {
      "cell_type": "code",
      "execution_count": 5,
      "metadata": {
        "colab": {
          "base_uri": "https://localhost:8080/"
        },
        "id": "EDd9SC5MkDZ2",
        "outputId": "d3fa3a15-86b4-4f8d-bbe2-12c7570f026c"
      },
      "outputs": [
        {
          "output_type": "stream",
          "name": "stdout",
          "text": [
            "<class 'str'>\n"
          ]
        }
      ],
      "source": [
        "# UNINASSAU\n",
        "# DOCENTE: CLOVES ROCHA\n",
        "# ESTUDANTE: JOÃO LUCAS\n",
        "#TIPOS PRIMITIVOS DE DADOS COM PYTHON\n",
        "\n",
        "#print('LUCAS')\n",
        "\n",
        "c = '11'\n",
        "print(type(c))"
      ]
    }
  ]
}